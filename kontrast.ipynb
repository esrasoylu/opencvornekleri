{
 "cells": [
  {
   "cell_type": "code",
   "execution_count": null,
   "id": "9c5001cd",
   "metadata": {},
   "outputs": [],
   "source": [
    "import cv2\n",
    "\n",
    "# Görüntüyü yükleyelim.\n",
    "image = cv2.imread('images1.png')\n",
    "\n",
    "# Kontrast artırma işlemi yapalım.Alpha değeri yükseldikçe kontrast değeri artar.\n",
    "alpha = 1.5 \n",
    "\n",
    "contrast_image = cv2.convertScaleAbs(image, alpha=alpha)\n",
    "\n",
    "\n",
    "# Görüntüyü kaydedip,açalım.\n",
    "\n",
    "cv2.imshow('Contrast Adjusted Image', contrast_image)\n",
    "cv2.imwrite('output_contrast_adjusted.jpg', contrast_image)\n",
    "cv2.waitKey(0)\n",
    "cv2.destroyAllWindows()\n",
    "\n",
    "\n",
    "\n"
   ]
  },
  {
   "cell_type": "code",
   "execution_count": null,
   "id": "9d894b1d",
   "metadata": {},
   "outputs": [],
   "source": []
  }
 ],
 "metadata": {
  "kernelspec": {
   "display_name": "Python 3",
   "language": "python",
   "name": "python3"
  },
  "language_info": {
   "codemirror_mode": {
    "name": "ipython",
    "version": 3
   },
   "file_extension": ".py",
   "mimetype": "text/x-python",
   "name": "python",
   "nbconvert_exporter": "python",
   "pygments_lexer": "ipython3",
   "version": "3.8.8"
  },
  "toc": {
   "base_numbering": 1,
   "nav_menu": {},
   "number_sections": true,
   "sideBar": true,
   "skip_h1_title": false,
   "title_cell": "Table of Contents",
   "title_sidebar": "Contents",
   "toc_cell": false,
   "toc_position": {},
   "toc_section_display": true,
   "toc_window_display": false
  }
 },
 "nbformat": 4,
 "nbformat_minor": 5
}
