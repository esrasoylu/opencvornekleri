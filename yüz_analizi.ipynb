{
 "cells": [
  {
   "cell_type": "code",
   "execution_count": 1,
   "id": "da690ed6",
   "metadata": {},
   "outputs": [
    {
     "name": "stdout",
     "output_type": "stream",
     "text": [
      "Requirement already satisfied: deepface in /opt/anaconda3/lib/python3.8/site-packages (0.0.71)\n",
      "Requirement already satisfied: numpy>=1.14.0 in /opt/anaconda3/lib/python3.8/site-packages (from deepface) (1.23.5)\n",
      "Requirement already satisfied: tensorflow>=1.9.0 in /opt/anaconda3/lib/python3.8/site-packages (from deepface) (2.7.0)\n",
      "Requirement already satisfied: tqdm>=4.30.0 in /opt/anaconda3/lib/python3.8/site-packages (from deepface) (4.59.0)\n",
      "Requirement already satisfied: opencv-python>=3.4.4 in /opt/anaconda3/lib/python3.8/site-packages (from deepface) (4.8.0.76)\n",
      "Requirement already satisfied: mtcnn>=0.1.0 in /opt/anaconda3/lib/python3.8/site-packages (from deepface) (0.1.1)\n",
      "Requirement already satisfied: Pillow>=5.2.0 in /opt/anaconda3/lib/python3.8/site-packages (from deepface) (8.2.0)\n",
      "Requirement already satisfied: pandas>=0.23.4 in /opt/anaconda3/lib/python3.8/site-packages (from deepface) (1.5.3)\n",
      "Requirement already satisfied: Flask>=1.1.2 in /opt/anaconda3/lib/python3.8/site-packages (from deepface) (1.1.2)\n",
      "Requirement already satisfied: keras>=2.2.0 in /opt/anaconda3/lib/python3.8/site-packages (from deepface) (2.7.0)\n",
      "Requirement already satisfied: retina-face>=0.0.1 in /opt/anaconda3/lib/python3.8/site-packages (from deepface) (0.0.8)\n",
      "Requirement already satisfied: gdown>=3.10.1 in /opt/anaconda3/lib/python3.8/site-packages (from deepface) (4.2.0)\n",
      "Requirement already satisfied: click>=5.1 in /opt/anaconda3/lib/python3.8/site-packages (from Flask>=1.1.2->deepface) (7.1.2)\n",
      "Requirement already satisfied: Jinja2>=2.10.1 in /opt/anaconda3/lib/python3.8/site-packages (from Flask>=1.1.2->deepface) (2.11.3)\n",
      "Requirement already satisfied: itsdangerous>=0.24 in /opt/anaconda3/lib/python3.8/site-packages (from Flask>=1.1.2->deepface) (1.1.0)\n",
      "Requirement already satisfied: Werkzeug>=0.15 in /opt/anaconda3/lib/python3.8/site-packages (from Flask>=1.1.2->deepface) (1.0.1)\n",
      "Requirement already satisfied: filelock in /opt/anaconda3/lib/python3.8/site-packages (from gdown>=3.10.1->deepface) (3.0.12)\n",
      "Requirement already satisfied: six in /opt/anaconda3/lib/python3.8/site-packages (from gdown>=3.10.1->deepface) (1.15.0)\n",
      "Requirement already satisfied: requests[socks] in /opt/anaconda3/lib/python3.8/site-packages (from gdown>=3.10.1->deepface) (2.25.1)\n",
      "Requirement already satisfied: beautifulsoup4 in /opt/anaconda3/lib/python3.8/site-packages (from gdown>=3.10.1->deepface) (4.9.3)\n",
      "Requirement already satisfied: MarkupSafe>=0.23 in /opt/anaconda3/lib/python3.8/site-packages (from Jinja2>=2.10.1->Flask>=1.1.2->deepface) (1.1.1)\n",
      "Requirement already satisfied: pytz>=2020.1 in /opt/anaconda3/lib/python3.8/site-packages (from pandas>=0.23.4->deepface) (2021.1)\n",
      "Requirement already satisfied: python-dateutil>=2.8.1 in /opt/anaconda3/lib/python3.8/site-packages (from pandas>=0.23.4->deepface) (2.8.1)\n",
      "Requirement already satisfied: opt-einsum>=2.3.2 in /opt/anaconda3/lib/python3.8/site-packages (from tensorflow>=1.9.0->deepface) (3.3.0)\n",
      "Requirement already satisfied: wheel<1.0,>=0.32.0 in /opt/anaconda3/lib/python3.8/site-packages (from tensorflow>=1.9.0->deepface) (0.36.2)\n",
      "Requirement already satisfied: wrapt>=1.11.0 in /opt/anaconda3/lib/python3.8/site-packages (from tensorflow>=1.9.0->deepface) (1.12.1)\n",
      "Requirement already satisfied: h5py>=2.9.0 in /opt/anaconda3/lib/python3.8/site-packages (from tensorflow>=1.9.0->deepface) (2.10.0)\n",
      "Requirement already satisfied: astunparse>=1.6.0 in /opt/anaconda3/lib/python3.8/site-packages (from tensorflow>=1.9.0->deepface) (1.6.3)\n",
      "Requirement already satisfied: tensorboard~=2.6 in /opt/anaconda3/lib/python3.8/site-packages (from tensorflow>=1.9.0->deepface) (2.7.0)\n",
      "Requirement already satisfied: absl-py>=0.4.0 in /opt/anaconda3/lib/python3.8/site-packages (from tensorflow>=1.9.0->deepface) (1.0.0)\n",
      "Requirement already satisfied: tensorflow-estimator<2.8,~=2.7.0rc0 in /opt/anaconda3/lib/python3.8/site-packages (from tensorflow>=1.9.0->deepface) (2.7.0)\n",
      "Requirement already satisfied: google-pasta>=0.1.1 in /opt/anaconda3/lib/python3.8/site-packages (from tensorflow>=1.9.0->deepface) (0.2.0)\n",
      "Requirement already satisfied: protobuf>=3.9.2 in /opt/anaconda3/lib/python3.8/site-packages (from tensorflow>=1.9.0->deepface) (3.19.3)\n",
      "Requirement already satisfied: tensorflow-io-gcs-filesystem>=0.21.0 in /opt/anaconda3/lib/python3.8/site-packages (from tensorflow>=1.9.0->deepface) (0.23.1)\n",
      "Requirement already satisfied: grpcio<2.0,>=1.24.3 in /opt/anaconda3/lib/python3.8/site-packages (from tensorflow>=1.9.0->deepface) (1.47.0)\n",
      "Requirement already satisfied: libclang>=9.0.1 in /opt/anaconda3/lib/python3.8/site-packages (from tensorflow>=1.9.0->deepface) (12.0.0)\n",
      "Requirement already satisfied: gast<0.5.0,>=0.2.1 in /opt/anaconda3/lib/python3.8/site-packages (from tensorflow>=1.9.0->deepface) (0.4.0)\n",
      "Requirement already satisfied: termcolor>=1.1.0 in /opt/anaconda3/lib/python3.8/site-packages (from tensorflow>=1.9.0->deepface) (1.1.0)\n",
      "Requirement already satisfied: typing-extensions>=3.6.6 in /opt/anaconda3/lib/python3.8/site-packages (from tensorflow>=1.9.0->deepface) (4.4.0)\n",
      "Requirement already satisfied: flatbuffers<3.0,>=1.12 in /opt/anaconda3/lib/python3.8/site-packages (from tensorflow>=1.9.0->deepface) (2.0)\n",
      "Requirement already satisfied: keras-preprocessing>=1.1.1 in /opt/anaconda3/lib/python3.8/site-packages (from tensorflow>=1.9.0->deepface) (1.1.2)\n",
      "Requirement already satisfied: tensorboard-data-server<0.7.0,>=0.6.0 in /opt/anaconda3/lib/python3.8/site-packages (from tensorboard~=2.6->tensorflow>=1.9.0->deepface) (0.6.1)\n",
      "Requirement already satisfied: setuptools>=41.0.0 in /opt/anaconda3/lib/python3.8/site-packages (from tensorboard~=2.6->tensorflow>=1.9.0->deepface) (52.0.0.post20210125)\n",
      "Requirement already satisfied: markdown>=2.6.8 in /opt/anaconda3/lib/python3.8/site-packages (from tensorboard~=2.6->tensorflow>=1.9.0->deepface) (3.3.6)\n",
      "Requirement already satisfied: tensorboard-plugin-wit>=1.6.0 in /opt/anaconda3/lib/python3.8/site-packages (from tensorboard~=2.6->tensorflow>=1.9.0->deepface) (1.8.1)\n",
      "Requirement already satisfied: google-auth-oauthlib<0.5,>=0.4.1 in /opt/anaconda3/lib/python3.8/site-packages (from tensorboard~=2.6->tensorflow>=1.9.0->deepface) (0.4.6)\n",
      "Requirement already satisfied: google-auth<3,>=1.6.3 in /opt/anaconda3/lib/python3.8/site-packages (from tensorboard~=2.6->tensorflow>=1.9.0->deepface) (2.3.3)\n",
      "Requirement already satisfied: pyasn1-modules>=0.2.1 in /opt/anaconda3/lib/python3.8/site-packages (from google-auth<3,>=1.6.3->tensorboard~=2.6->tensorflow>=1.9.0->deepface) (0.2.8)\n",
      "Requirement already satisfied: cachetools<5.0,>=2.0.0 in /opt/anaconda3/lib/python3.8/site-packages (from google-auth<3,>=1.6.3->tensorboard~=2.6->tensorflow>=1.9.0->deepface) (4.2.4)\n",
      "Requirement already satisfied: rsa<5,>=3.1.4 in /opt/anaconda3/lib/python3.8/site-packages (from google-auth<3,>=1.6.3->tensorboard~=2.6->tensorflow>=1.9.0->deepface) (4.8)\n",
      "Requirement already satisfied: requests-oauthlib>=0.7.0 in /opt/anaconda3/lib/python3.8/site-packages (from google-auth-oauthlib<0.5,>=0.4.1->tensorboard~=2.6->tensorflow>=1.9.0->deepface) (1.3.0)\n",
      "Requirement already satisfied: importlib-metadata>=4.4 in /opt/anaconda3/lib/python3.8/site-packages (from markdown>=2.6.8->tensorboard~=2.6->tensorflow>=1.9.0->deepface) (4.10.0)\n",
      "Requirement already satisfied: zipp>=0.5 in /opt/anaconda3/lib/python3.8/site-packages (from importlib-metadata>=4.4->markdown>=2.6.8->tensorboard~=2.6->tensorflow>=1.9.0->deepface) (3.4.1)\n",
      "Requirement already satisfied: pyasn1<0.5.0,>=0.4.6 in /opt/anaconda3/lib/python3.8/site-packages (from pyasn1-modules>=0.2.1->google-auth<3,>=1.6.3->tensorboard~=2.6->tensorflow>=1.9.0->deepface) (0.4.8)\n",
      "Requirement already satisfied: chardet<5,>=3.0.2 in /opt/anaconda3/lib/python3.8/site-packages (from requests[socks]->gdown>=3.10.1->deepface) (4.0.0)\n",
      "Requirement already satisfied: idna<3,>=2.5 in /opt/anaconda3/lib/python3.8/site-packages (from requests[socks]->gdown>=3.10.1->deepface) (2.10)\n",
      "Requirement already satisfied: urllib3<1.27,>=1.21.1 in /opt/anaconda3/lib/python3.8/site-packages (from requests[socks]->gdown>=3.10.1->deepface) (1.26.4)\n",
      "Requirement already satisfied: certifi>=2017.4.17 in /opt/anaconda3/lib/python3.8/site-packages (from requests[socks]->gdown>=3.10.1->deepface) (2020.12.5)\n",
      "Requirement already satisfied: oauthlib>=3.0.0 in /opt/anaconda3/lib/python3.8/site-packages (from requests-oauthlib>=0.7.0->google-auth-oauthlib<0.5,>=0.4.1->tensorboard~=2.6->tensorflow>=1.9.0->deepface) (3.1.1)\n",
      "Requirement already satisfied: soupsieve>1.2 in /opt/anaconda3/lib/python3.8/site-packages (from beautifulsoup4->gdown>=3.10.1->deepface) (2.2.1)\n",
      "Requirement already satisfied: PySocks!=1.5.7,>=1.5.6 in /opt/anaconda3/lib/python3.8/site-packages (from requests[socks]->gdown>=3.10.1->deepface) (1.7.1)\n"
     ]
    }
   ],
   "source": [
    "!pip install deepface"
   ]
  },
  {
   "cell_type": "code",
   "execution_count": null,
   "id": "ff676408",
   "metadata": {},
   "outputs": [
    {
     "name": "stderr",
     "output_type": "stream",
     "text": [
      "Action: race: 100%|██████████| 4/4 [00:15<00:00,  3.80s/it]   \n"
     ]
    },
    {
     "name": "stdout",
     "output_type": "stream",
     "text": [
      "Duygu Analizi Sonuçları:\n",
      "Duygu: neutral\n",
      "Mutluluk Skoru: 1.2079676613211632\n",
      "Üzüntü Skoru: 1.6511701047420502\n",
      "Kızgınlık Skoru: 1.0711343958973885\n",
      "Şaşkınlık Skoru: 0.05514420918188989\n",
      "Neutral Skoru: 80.04314303398132\n",
      "Yaş Tahmini: 32\n"
     ]
    }
   ],
   "source": [
    "from deepface import DeepFace\n",
    "import cv2\n",
    "\n",
    "#Yüz analizi yapmak istediğiniz fotoğrafı yükleyin.\n",
    "img = cv2.imread('image.jpg')\n",
    "\n",
    "# Duygu,yaş,etnik köken analizi yapalım.\n",
    "result = DeepFace.analyze(img)\n",
    "result1 = DeepFace.analyze(img, actions=['age'])\n",
    "result2 = DeepFace.analyze(img, actions=['race'])\n",
    "\n",
    "\n",
    "\n",
    "# Duygu analizi sonuçlarını yazdıralım.\n",
    "print(\"Duygu Analizi Sonuçları:\")\n",
    "print(\"Duygu:\", result[\"dominant_emotion\"])\n",
    "print(\"Mutluluk Skoru:\", result[\"emotion\"][\"happy\"])\n",
    "print(\"Üzüntü Skoru:\", result[\"emotion\"][\"sad\"])\n",
    "print(\"Kızgınlık Skoru:\", result[\"emotion\"][\"angry\"])\n",
    "print(\"Şaşkınlık Skoru:\", result[\"emotion\"][\"surprise\"])\n",
    "print(\"Neutral Skoru:\", result[\"emotion\"][\"neutral\"])\n",
    "\n",
    "\n",
    "# Yaş tahmini sonucunu yazdıralım\n",
    "\n",
    "print(\"Yaş Tahmini:\", result1[\"age\"])\n",
    "\n",
    "# Irk tahmini sonucunu yazdırın\n",
    "print(\"Irk Tahmini:\", result2[\"race\"])\n",
    "\n"
   ]
  },
  {
   "cell_type": "code",
   "execution_count": null,
   "id": "716abd8f",
   "metadata": {},
   "outputs": [
    {
     "name": "stdout",
     "output_type": "stream",
     "text": [
      "Detector backend is  opencv\n",
      "WARNING: There is no image in this path (   ) . Face recognition will not be performed.\n",
      "Emotion model loaded\n",
      "Age model loaded\n"
     ]
    },
    {
     "name": "stderr",
     "output_type": "stream",
     "text": [
      "Finding embeddings: 0it [00:00, ?it/s]"
     ]
    },
    {
     "name": "stdout",
     "output_type": "stream",
     "text": [
      "Gender model loaded\n",
      "Facial attibute analysis models loaded in  5.775291919708252  seconds\n",
      "Embeddings found for given data set in  0.21062397956848145  seconds\n"
     ]
    },
    {
     "name": "stderr",
     "output_type": "stream",
     "text": [
      "\n"
     ]
    }
   ],
   "source": [
    "from deepface import DeepFace\n",
    "import cv2\n",
    "DeepFace.stream()"
   ]
  },
  {
   "cell_type": "code",
   "execution_count": 5,
   "id": "075532ed",
   "metadata": {},
   "outputs": [
    {
     "name": "stderr",
     "output_type": "stream",
     "text": [
      "Action: race: 100%|██████████| 4/4 [00:02<00:00,  2.00it/s]   "
     ]
    },
    {
     "name": "stdout",
     "output_type": "stream",
     "text": [
      "Duygu: neutral\n"
     ]
    },
    {
     "name": "stderr",
     "output_type": "stream",
     "text": [
      "\n"
     ]
    },
    {
     "ename": "KeyError",
     "evalue": "'Angry'",
     "output_type": "error",
     "traceback": [
      "\u001b[0;31m---------------------------------------------------------------------------\u001b[0m",
      "\u001b[0;31mKeyError\u001b[0m                                  Traceback (most recent call last)",
      "\u001b[0;32m<ipython-input-5-2541d818af1e>\u001b[0m in \u001b[0;36m<module>\u001b[0;34m\u001b[0m\n\u001b[1;32m     22\u001b[0m     \u001b[0mprint\u001b[0m\u001b[0;34m(\u001b[0m\u001b[0;34m\"Duygu:\"\u001b[0m\u001b[0;34m,\u001b[0m \u001b[0mdominant_emotion\u001b[0m\u001b[0;34m)\u001b[0m\u001b[0;34m\u001b[0m\u001b[0;34m\u001b[0m\u001b[0m\n\u001b[1;32m     23\u001b[0m     \u001b[0;32mfor\u001b[0m \u001b[0mi\u001b[0m\u001b[0;34m,\u001b[0m \u001b[0memotion\u001b[0m \u001b[0;32min\u001b[0m \u001b[0menumerate\u001b[0m\u001b[0;34m(\u001b[0m\u001b[0memotion_labels\u001b[0m\u001b[0;34m)\u001b[0m\u001b[0;34m:\u001b[0m\u001b[0;34m\u001b[0m\u001b[0;34m\u001b[0m\u001b[0m\n\u001b[0;32m---> 24\u001b[0;31m         \u001b[0mprint\u001b[0m\u001b[0;34m(\u001b[0m\u001b[0;34mf\"{emotion}: {emotion_probabilities[emotion]:.2f}\"\u001b[0m\u001b[0;34m)\u001b[0m\u001b[0;34m\u001b[0m\u001b[0;34m\u001b[0m\u001b[0m\n\u001b[0m\u001b[1;32m     25\u001b[0m \u001b[0;34m\u001b[0m\u001b[0m\n\u001b[1;32m     26\u001b[0m     \u001b[0;31m# Duygu sonuçlarını ekranda gösterin\u001b[0m\u001b[0;34m\u001b[0m\u001b[0;34m\u001b[0m\u001b[0;34m\u001b[0m\u001b[0m\n",
      "\u001b[0;31mKeyError\u001b[0m: 'Angry'"
     ]
    }
   ],
   "source": [
    "import cv2\n",
    "from deepface import DeepFace\n",
    "\n",
    "# Kamera başlatın (0 yerine video dosyası veya IP kamera adresi kullanabilirsiniz)\n",
    "cap = cv2.VideoCapture(0)\n",
    "\n",
    "# Duygu etiketleri\n",
    "emotion_labels = [\"Angry\", \"Disgust\", \"Fear\", \"Happy\", \"Sad\", \"Surprise\", \"Neutral\"]\n",
    "\n",
    "while True:\n",
    "    # Kameradan bir kare yakalayın\n",
    "    ret, frame = cap.read()\n",
    "\n",
    "    # Duygu analizi yapın\n",
    "    result = DeepFace.analyze(frame)\n",
    "\n",
    "    # Duygu sonuçlarını alın\n",
    "    dominant_emotion = result[\"dominant_emotion\"]\n",
    "    emotion_probabilities = result[\"emotion\"]\n",
    "\n",
    "    # Duygu sonuçlarını yazdırın\n",
    "    print(\"Duygu:\", dominant_emotion)\n",
    "    for i, emotion in enumerate(emotion_labels):\n",
    "        print(f\"{emotion}: {emotion_probabilities[emotion]:.2f}\")\n",
    "\n",
    "    # Duygu sonuçlarını ekranda gösterin\n",
    "    cv2.putText(frame, f\"Duygu: {dominant_emotion}\", (10, 30), cv2.FONT_HERSHEY_SIMPLEX, 1, (0, 0, 255), 2)\n",
    "\n",
    "    # Kameradan gelen görüntüyü ekranda gösterin\n",
    "    cv2.imshow(\"Kamera Görüntüsü\", frame)\n",
    "\n",
    "    # Çıkmak için \"q\" tuşuna basın\n",
    "    if cv2.waitKey(10) & 0xFF == ord('q'):\n",
    "        break\n",
    "\n",
    "# Kamerayı serbest bırakın ve pencereyi kapatın\n",
    "cap.release()\n",
    "cv2.destroyAllWindows()\n"
   ]
  }
 ],
 "metadata": {
  "kernelspec": {
   "display_name": "Python 3",
   "language": "python",
   "name": "python3"
  },
  "language_info": {
   "codemirror_mode": {
    "name": "ipython",
    "version": 3
   },
   "file_extension": ".py",
   "mimetype": "text/x-python",
   "name": "python",
   "nbconvert_exporter": "python",
   "pygments_lexer": "ipython3",
   "version": "3.8.8"
  },
  "toc": {
   "base_numbering": 1,
   "nav_menu": {},
   "number_sections": true,
   "sideBar": true,
   "skip_h1_title": false,
   "title_cell": "Table of Contents",
   "title_sidebar": "Contents",
   "toc_cell": false,
   "toc_position": {},
   "toc_section_display": true,
   "toc_window_display": false
  }
 },
 "nbformat": 4,
 "nbformat_minor": 5
}
