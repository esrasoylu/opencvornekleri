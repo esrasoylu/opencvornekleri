{
 "cells": [
  {
   "cell_type": "code",
   "execution_count": null,
   "id": "5f2e453a",
   "metadata": {},
   "outputs": [],
   "source": [
    "import cv2\n",
    "import numpy as np\n",
    "\n",
    "# Görüntüyü yükleyelim.\n",
    "image = cv2.imread('images.jpeg')\n",
    "\n",
    "\n",
    "# Görüntüyü istenen boyutlara boyutlandıralım.\n",
    "resized_image = cv2.resize(image, (1272,712))\n",
    "\n",
    "# Gaussian filtre uygulayarak gürültüyü azaltalım.\n",
    "blurred_image = cv2.GaussianBlur(resized_image, (11, 11), 0)\n",
    "\n",
    "\n",
    "\n",
    "# Gürültü azaltılmış görüntüyü kaydederek açalım.\n",
    "cv2.imwrite('gaussianfiltre.jpeg', blurred_image)\n",
    "cv2.imshow('GaussianFiltre', blurred_image)\n",
    "cv2.waitKey(0)\n",
    "cv2.destroyAllWindows()"
   ]
  },
  {
   "cell_type": "code",
   "execution_count": null,
   "id": "325204b7",
   "metadata": {},
   "outputs": [],
   "source": []
  }
 ],
 "metadata": {
  "kernelspec": {
   "display_name": "Python 3",
   "language": "python",
   "name": "python3"
  },
  "language_info": {
   "codemirror_mode": {
    "name": "ipython",
    "version": 3
   },
   "file_extension": ".py",
   "mimetype": "text/x-python",
   "name": "python",
   "nbconvert_exporter": "python",
   "pygments_lexer": "ipython3",
   "version": "3.8.8"
  },
  "toc": {
   "base_numbering": 1,
   "nav_menu": {},
   "number_sections": true,
   "sideBar": true,
   "skip_h1_title": false,
   "title_cell": "Table of Contents",
   "title_sidebar": "Contents",
   "toc_cell": false,
   "toc_position": {},
   "toc_section_display": true,
   "toc_window_display": false
  }
 },
 "nbformat": 4,
 "nbformat_minor": 5
}
