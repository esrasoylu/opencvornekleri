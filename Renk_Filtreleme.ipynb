{
 "cells": [
  {
   "cell_type": "code",
   "execution_count": null,
   "id": "998f1de4",
   "metadata": {},
   "outputs": [],
   "source": [
    "import cv2\n",
    "import numpy as np\n",
    "\n",
    "#Renk filtrelemek istediğimiz görüntüyü yükleyelim.\n",
    "resim = cv2.imread('images3.jpeg')\n",
    "\n",
    "# Görüntüyü BGR (Blue, Green, Red) renk uzayından HSV (Hue, Saturation, Value) renk uzayına dönüştürelim.\n",
    "hsv_resim = cv2.cvtColor(resim, cv2.COLOR_BGR2HSV)\n",
    "\n",
    "# Mavi renk filtreleme yapmak için renk aralığını tanımlayalım.\n",
    "düsük_mavi = np.array([90, 50, 50])\n",
    "yüksek_mavi = np.array([130, 255, 255])\n",
    "\n",
    "# Belirtilen renk aralığındaki pikselleri maskeleme işlemini gerçekleştirelim.\n",
    "mavi_maske = cv2.inRange(hsv_resim, düsük_mavi, yüksek_mavi)\n",
    "\n",
    "# Orjinal görüntüyü belirtilen mavi renk maskesine  göre filtreleyelim.\n",
    "mavi_filtre_resmi = cv2.bitwise_and(resim, resim, mask=mavi_maske)\n",
    "\n",
    "# Pencereyi açalım.\n",
    "cv2.imshow('Mavi Filtreli Resim', mavi_filtre_resmi)\n",
    "\n",
    "# Kapatmak için herhangi bir tuşa basmanızı sağlayan kodu ekleyelim.\n",
    "cv2.waitKey(0)\n",
    "\n",
    "# Pencereyi kapatma kodu ekleyelim.\n",
    "cv2.destroyAllWindows()\n"
   ]
  },
  {
   "cell_type": "code",
   "execution_count": null,
   "id": "cf59c32e",
   "metadata": {},
   "outputs": [],
   "source": []
  }
 ],
 "metadata": {
  "kernelspec": {
   "display_name": "Python 3",
   "language": "python",
   "name": "python3"
  },
  "language_info": {
   "codemirror_mode": {
    "name": "ipython",
    "version": 3
   },
   "file_extension": ".py",
   "mimetype": "text/x-python",
   "name": "python",
   "nbconvert_exporter": "python",
   "pygments_lexer": "ipython3",
   "version": "3.8.8"
  },
  "toc": {
   "base_numbering": 1,
   "nav_menu": {},
   "number_sections": true,
   "sideBar": true,
   "skip_h1_title": false,
   "title_cell": "Table of Contents",
   "title_sidebar": "Contents",
   "toc_cell": false,
   "toc_position": {},
   "toc_section_display": true,
   "toc_window_display": false
  }
 },
 "nbformat": 4,
 "nbformat_minor": 5
}
