{
 "cells": [
  {
   "cell_type": "code",
   "execution_count": 1,
   "id": "b0b1b27d",
   "metadata": {},
   "outputs": [
    {
     "data": {
      "text/plain": [
       "-1"
      ]
     },
     "execution_count": 1,
     "metadata": {},
     "output_type": "execute_result"
    }
   ],
   "source": [
    "import cv2\n",
    "import numpy as np\n",
    "\n",
    "image = cv2.imread('images1.png')\n",
    "\n",
    "# Keskinleştirme çekirdeği oluşturalım.\n",
    "kernel = np.array([[-1,-1,-1],\n",
    "                   [-1, 9,-1],\n",
    "                   [-1,-1,-1]])\n",
    "\n",
    "# Keskinleştirme filtresi uygulayalım.\n",
    "sharpened_image = cv2.filter2D(image, -1, kernel)\n",
    "\n",
    "#Görüntüyü açalım.\n",
    "\n",
    "cv2.imwrite('keskinlestirme.jpg', sharpened_image)\n",
    "cv2.imshow('keskinlestirme', sharpened_image)\n",
    "cv2.waitKey(10)\n",
    "\n"
   ]
  },
  {
   "cell_type": "code",
   "execution_count": null,
   "id": "241211f9",
   "metadata": {},
   "outputs": [],
   "source": []
  }
 ],
 "metadata": {
  "kernelspec": {
   "display_name": "Python 3",
   "language": "python",
   "name": "python3"
  },
  "language_info": {
   "codemirror_mode": {
    "name": "ipython",
    "version": 3
   },
   "file_extension": ".py",
   "mimetype": "text/x-python",
   "name": "python",
   "nbconvert_exporter": "python",
   "pygments_lexer": "ipython3",
   "version": "3.8.8"
  },
  "toc": {
   "base_numbering": 1,
   "nav_menu": {},
   "number_sections": true,
   "sideBar": true,
   "skip_h1_title": false,
   "title_cell": "Table of Contents",
   "title_sidebar": "Contents",
   "toc_cell": false,
   "toc_position": {},
   "toc_section_display": true,
   "toc_window_display": false
  }
 },
 "nbformat": 4,
 "nbformat_minor": 5
}
